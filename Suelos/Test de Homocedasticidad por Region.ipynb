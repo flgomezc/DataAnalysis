{
 "cells": [
  {
   "cell_type": "code",
   "execution_count": 1,
   "metadata": {
    "collapsed": false
   },
   "outputs": [
    {
     "name": "stdout",
     "output_type": "stream",
     "text": [
      "Populating the interactive namespace from numpy and matplotlib\n"
     ]
    }
   ],
   "source": [
    "%pylab inline\n",
    "import pandas as pd\n",
    "import scipy.stats as stats\n",
    "import sys\n",
    "#reload(sys)  \n",
    "#sys.setdefaultencoding('utf8')\n",
    "\n",
    "Frame = pd.read_excel('01 sitios.xlsx')"
   ]
  },
  {
   "cell_type": "code",
   "execution_count": 2,
   "metadata": {
    "collapsed": false
   },
   "outputs": [],
   "source": [
    "X_N = Frame[:12]\n",
    "X_S = Frame[12:]"
   ]
  },
  {
   "cell_type": "code",
   "execution_count": 3,
   "metadata": {
    "collapsed": false
   },
   "outputs": [
    {
     "name": "stdout",
     "output_type": "stream",
     "text": [
      "Test de Homocedastacidad de Levene\n",
      "Pendiente Norte vs. Sur(15.796403121818797, 0.00064186189860535991)\n",
      "Precipitacion Norte vs. Sur(2.0412645212285905, 0.16712754451772241)\n",
      "Temperatura Norte vs. Sur(0.34038204279297818, 0.56554254586485297)\n",
      "Evaporacion Norte vs. Sur(0.47348224969931407, 0.49858135580923035)\n"
     ]
    }
   ],
   "source": [
    "Columnas = list(Frame)\n",
    "\n",
    "print \"Test de Homocedastacidad de Levene\"\n",
    "for i in range(4):\n",
    "    print Columnas[2+i]+\" Norte vs. Sur\" + str(stats.levene(X_N.iloc[:,2+i], X_S.iloc[:,2+i]))"
   ]
  },
  {
   "cell_type": "code",
   "execution_count": 4,
   "metadata": {
    "collapsed": false
   },
   "outputs": [],
   "source": [
    "Frame = pd.read_excel('02 nutrientes.xlsx')\n",
    "X = Frame.iloc[:, 5:12]\n",
    "X_N = Frame.iloc[:25,5:12]\n",
    "X_S = Frame.iloc[25:,5:12]\n",
    "\n",
    "Columnas = list(X)"
   ]
  },
  {
   "cell_type": "code",
   "execution_count": 6,
   "metadata": {
    "collapsed": false
   },
   "outputs": [
    {
     "name": "stdout",
     "output_type": "stream",
     "text": [
      "Test de Homocedastacidad de Levene\n",
      "DA (g/cm3) Norte vs. Sur(0.31993929131266341, 0.57445385386430681)\n",
      "MgC/ha Norte vs. Sur(0.93412313272067271, 0.33895963009972296)\n",
      "KgN/ha Norte vs. Sur(1.4345327893669393, 0.23729691307822798)\n",
      "C:N Norte vs. Sur(2.4926938849853797, 0.12138035320813506)\n",
      "KgS/ha Norte vs. Sur(1.2128111646795887, 0.27663195072397456)\n",
      "KgP/ha Norte vs. Sur(3.250109075107249, 0.078117808364350366)\n",
      "CO Norte vs. Sur(4.8771658558387267, 0.03235068824455993)\n"
     ]
    }
   ],
   "source": [
    "print \"Test de Homocedastacidad de Levene\"\n",
    "for i in range(len(Columnas)):\n",
    "    print Columnas[i]+\" Norte vs. Sur\" + str(stats.levene(X_N.iloc[:,i], X_S.iloc[:,i]))"
   ]
  },
  {
   "cell_type": "code",
   "execution_count": 7,
   "metadata": {
    "collapsed": false
   },
   "outputs": [],
   "source": [
    "Frame = pd.read_excel('03 varios.xlsx')\n",
    "X = Frame.iloc[:, 6:9]\n",
    "\n",
    "Columnas = list(X)\n",
    "X = Frame.iloc[:, 6:9]\n",
    "X_N = Frame.iloc[:25,6:9]\n",
    "X_S = Frame.iloc[25:,6:9]"
   ]
  },
  {
   "cell_type": "code",
   "execution_count": 8,
   "metadata": {
    "collapsed": false
   },
   "outputs": [
    {
     "name": "stdout",
     "output_type": "stream",
     "text": [
      "Test de Homocedastacidad de Levene\n",
      "% total Arenas Norte vs. Sur(6.0189574661796374, 0.018091089811928127)\n",
      "% total Arcillas Norte vs. Sur(0.85508344047868301, 0.36005062515704589)\n",
      "% total Limos Norte vs. Sur(7.4531907687562668, 0.0090070942922424162)\n"
     ]
    }
   ],
   "source": [
    "print \"Test de Homocedastacidad de Levene\"\n",
    "for i in range(len(Columnas)):\n",
    "    print Columnas[i]+\" Norte vs. Sur\" + str(stats.levene(X_N.iloc[:,i], X_S.iloc[:,i]))"
   ]
  },
  {
   "cell_type": "code",
   "execution_count": null,
   "metadata": {
    "collapsed": true
   },
   "outputs": [],
   "source": []
  }
 ],
 "metadata": {
  "kernelspec": {
   "display_name": "Python 2",
   "language": "python",
   "name": "python2"
  },
  "language_info": {
   "codemirror_mode": {
    "name": "ipython",
    "version": 2
   },
   "file_extension": ".py",
   "mimetype": "text/x-python",
   "name": "python",
   "nbconvert_exporter": "python",
   "pygments_lexer": "ipython2",
   "version": "2.7.9"
  }
 },
 "nbformat": 4,
 "nbformat_minor": 0
}
